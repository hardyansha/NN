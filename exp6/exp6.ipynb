{
 "cells": [
  {
   "cell_type": "code",
   "execution_count": 1,
   "metadata": {},
   "outputs": [
    {
     "name": "stderr",
     "output_type": "stream",
     "text": [
      "e:\\python312\\Lib\\site-packages\\keras\\src\\layers\\rnn\\rnn.py:204: UserWarning: Do not pass an `input_shape`/`input_dim` argument to a layer. When using Sequential models, prefer using an `Input(shape)` object as the first layer in the model instead.\n",
      "  super().__init__(**kwargs)\n"
     ]
    },
    {
     "name": "stdout",
     "output_type": "stream",
     "text": [
      "\u001b[1m7/7\u001b[0m \u001b[32m━━━━━━━━━━━━━━━━━━━━\u001b[0m\u001b[37m\u001b[0m \u001b[1m1s\u001b[0m 83ms/step\n",
      "✅ Experiment 6 completed. Outputs saved in 'exp6_outputs/'\n"
     ]
    }
   ],
   "source": [
    "import numpy as np\n",
    "import matplotlib.pyplot as plt\n",
    "import tensorflow as tf\n",
    "from tensorflow.keras.models import Sequential\n",
    "from tensorflow.keras.layers import SimpleRNN, Dense\n",
    "from sklearn.preprocessing import MinMaxScaler\n",
    "import os\n",
    "\n",
    "# 📊 Generate sample time series data (sine wave)\n",
    "def generate_series(length):\n",
    "    t = np.arange(0, length)\n",
    "    return np.sin(0.02 * t) + 0.5 * np.sin(0.05 * t)\n",
    "\n",
    "# 🧪 Prepare dataset for supervised learning\n",
    "def prepare_data(series, window_size):\n",
    "    X, y = [], []\n",
    "    for i in range(len(series) - window_size):\n",
    "        X.append(series[i:i+window_size])\n",
    "        y.append(series[i+window_size])\n",
    "    return np.array(X), np.array(y)\n",
    "\n",
    "# 📁 Output directory\n",
    "os.makedirs(\"exp6_outputs\", exist_ok=True)\n",
    "\n",
    "# 🔧 Parameters\n",
    "series_length = 1000\n",
    "window_size = 20\n",
    "epochs = 30\n",
    "batch_size = 16\n",
    "\n",
    "# 📉 Generate and scale series\n",
    "series = generate_series(series_length).reshape(-1, 1)\n",
    "scaler = MinMaxScaler()\n",
    "series_scaled = scaler.fit_transform(series).flatten()\n",
    "\n",
    "# 📦 Prepare data\n",
    "X, y = prepare_data(series_scaled, window_size)\n",
    "X = X.reshape(-1, window_size, 1)\n",
    "\n",
    "# 📈 Train-test split\n",
    "split = int(0.8 * len(X))\n",
    "X_train, X_test = X[:split], X[split:]\n",
    "y_train, y_test = y[:split], y[split:]\n",
    "\n",
    "# 🔁 Build RNN model\n",
    "model = Sequential()\n",
    "model.add(SimpleRNN(50, activation='tanh', input_shape=(window_size, 1)))\n",
    "model.add(Dense(1))\n",
    "model.compile(optimizer='adam', loss='mse')\n",
    "\n",
    "# 🚂 Train model\n",
    "history = model.fit(X_train, y_train, epochs=epochs, batch_size=batch_size, validation_data=(X_test, y_test), verbose=0)\n",
    "\n",
    "# 📊 Evaluate model\n",
    "predicted = model.predict(X_test)\n",
    "y_test_inv = scaler.inverse_transform(y_test.reshape(-1, 1))\n",
    "predicted_inv = scaler.inverse_transform(predicted)\n",
    "\n",
    "# 📉 Plot predictions vs actual\n",
    "plt.figure()\n",
    "plt.plot(y_test_inv, label='Actual')\n",
    "plt.plot(predicted_inv, label='Predicted')\n",
    "plt.title('Actual vs Predicted Time Series')\n",
    "plt.legend()\n",
    "plt.savefig(\"exp6_outputs/prediction_vs_actual.png\")\n",
    "plt.close()\n",
    "\n",
    "# 📈 Plot loss\n",
    "plt.figure()\n",
    "plt.plot(history.history['loss'], label='Train Loss')\n",
    "plt.plot(history.history['val_loss'], label='Val Loss')\n",
    "plt.title('Training and Validation Loss')\n",
    "plt.xlabel('Epochs')\n",
    "plt.ylabel('Loss')\n",
    "plt.legend()\n",
    "plt.savefig(\"exp6_outputs/loss_plot.png\")\n",
    "plt.close()\n",
    "\n",
    "print(\"✅ Experiment 6 completed. Outputs saved in 'exp6_outputs/'\")\n"
   ]
  }
 ],
 "metadata": {
  "kernelspec": {
   "display_name": "Python 3",
   "language": "python",
   "name": "python3"
  },
  "language_info": {
   "codemirror_mode": {
    "name": "ipython",
    "version": 3
   },
   "file_extension": ".py",
   "mimetype": "text/x-python",
   "name": "python",
   "nbconvert_exporter": "python",
   "pygments_lexer": "ipython3",
   "version": "3.12.0"
  }
 },
 "nbformat": 4,
 "nbformat_minor": 2
}
